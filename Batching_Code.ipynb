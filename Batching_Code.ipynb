{
  "nbformat": 4,
  "nbformat_minor": 0,
  "metadata": {
    "colab": {
      "name": "Batching_Code.ipynb",
      "provenance": [],
      "collapsed_sections": []
    },
    "kernelspec": {
      "name": "python3",
      "display_name": "Python 3"
    },
    "language_info": {
      "name": "python"
    }
  },
  "cells": [
    {
      "cell_type": "code",
      "source": [
        "def batch_orders(i, count, k):\n",
        "  l = []\n",
        "  while count != 0:\n",
        "    batched = int(count/k)\n",
        "    #l.append([i*k]*batched)\n",
        "    for j in range(batched):\n",
        "      l.append(str(k)+i)\n",
        "    count -= batched * k\n",
        "    k -= 1\n",
        "  return l"
      ],
      "metadata": {
        "id": "jsZ4cYYTb4M0"
      },
      "execution_count": 1,
      "outputs": []
    },
    {
      "cell_type": "code",
      "source": [
        "def final_orders(order_list, k):\n",
        "  final_orders = []\n",
        "  order_list_set = sorted(set(order_list))\n",
        "\n",
        "  for i in order_list_set:\n",
        "    order_list_c = order_list.copy()\n",
        "    count = 1\n",
        "    order_list_c.remove(i)\n",
        "    for j in order_list_c:\n",
        "      if i == j:\n",
        "        count += 1\n",
        "    if count > 1:\n",
        "      final_orders.append(batch_orders(i, count, k))\n",
        "    else:\n",
        "      final_orders.append(i)\n",
        "  return final_orders"
      ],
      "metadata": {
        "id": "RkHL1mzcYQYj"
      },
      "execution_count": 2,
      "outputs": []
    },
    {
      "cell_type": "code",
      "source": [
        "orders_arrived = ['A','B','A','A','B','C','D','B','C']\n",
        "\n",
        "final_orders(orders_arrived, 2)"
      ],
      "metadata": {
        "colab": {
          "base_uri": "https://localhost:8080/"
        },
        "id": "4aT3158TdFs5",
        "outputId": "f531685c-147f-4b98-f851-ad20b24d1afc"
      },
      "execution_count": 3,
      "outputs": [
        {
          "output_type": "execute_result",
          "data": {
            "text/plain": [
              "[['2A', '1A'], ['2B', '1B'], ['2C'], 'D']"
            ]
          },
          "metadata": {},
          "execution_count": 3
        }
      ]
    },
    {
      "cell_type": "code",
      "source": [
        ""
      ],
      "metadata": {
        "id": "cITbjgl4fSux"
      },
      "execution_count": null,
      "outputs": []
    }
  ]
}